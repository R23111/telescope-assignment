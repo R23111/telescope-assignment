{
 "cells": [
  {
   "cell_type": "code",
   "execution_count": 2,
   "id": "1ac309d0",
   "metadata": {},
   "outputs": [],
   "source": [
    "class Test:\n",
    "    name = \"Test\""
   ]
  },
  {
   "cell_type": "code",
   "execution_count": 3,
   "id": "c036c85e",
   "metadata": {},
   "outputs": [],
   "source": [
    "test = Test()"
   ]
  },
  {
   "cell_type": "code",
   "execution_count": 6,
   "id": "b00834c5",
   "metadata": {},
   "outputs": [
    {
     "data": {
      "text/plain": [
       "'Test'"
      ]
     },
     "execution_count": 6,
     "metadata": {},
     "output_type": "execute_result"
    }
   ],
   "source": [
    "from operator import attrgetter\n",
    "\n",
    "attrgetter(\"name\")(test)"
   ]
  },
  {
   "cell_type": "code",
   "execution_count": 5,
   "id": "48adec9b",
   "metadata": {},
   "outputs": [
    {
     "ename": "NameError",
     "evalue": "name 'test_attrgetter' is not defined",
     "output_type": "error",
     "traceback": [
      "\u001b[31m---------------------------------------------------------------------------\u001b[39m",
      "\u001b[31mNameError\u001b[39m                                 Traceback (most recent call last)",
      "\u001b[36mCell\u001b[39m\u001b[36m \u001b[39m\u001b[32mIn[5]\u001b[39m\u001b[32m, line 1\u001b[39m\n\u001b[32m----> \u001b[39m\u001b[32m1\u001b[39m \u001b[43mtest_attrgetter\u001b[49m()\n",
      "\u001b[31mNameError\u001b[39m: name 'test_attrgetter' is not defined"
     ]
    }
   ],
   "source": [
    "test_attrgetter()"
   ]
  },
  {
   "cell_type": "code",
   "execution_count": null,
   "id": "5f11bc9c",
   "metadata": {},
   "outputs": [
    {
     "data": {
      "text/plain": [
       "True"
      ]
     },
     "execution_count": 7,
     "metadata": {},
     "output_type": "execute_result"
    }
   ],
   "source": []
  },
  {
   "cell_type": "code",
   "execution_count": null,
   "id": "7b877ec1",
   "metadata": {},
   "outputs": [],
   "source": []
  }
 ],
 "metadata": {
  "kernelspec": {
   "display_name": ".venv",
   "language": "python",
   "name": "python3"
  },
  "language_info": {
   "codemirror_mode": {
    "name": "ipython",
    "version": 3
   },
   "file_extension": ".py",
   "mimetype": "text/x-python",
   "name": "python",
   "nbconvert_exporter": "python",
   "pygments_lexer": "ipython3",
   "version": "3.11.13"
  }
 },
 "nbformat": 4,
 "nbformat_minor": 5
}
